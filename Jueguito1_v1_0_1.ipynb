{
  "nbformat": 4,
  "nbformat_minor": 0,
  "metadata": {
    "colab": {
      "provenance": [],
      "authorship_tag": "ABX9TyNabrOVR8KKcN6oLbNWWNoL",
      "include_colab_link": true
    },
    "kernelspec": {
      "name": "python3",
      "display_name": "Python 3"
    },
    "language_info": {
      "name": "python"
    }
  },
  "cells": [
    {
      "cell_type": "markdown",
      "metadata": {
        "id": "view-in-github",
        "colab_type": "text"
      },
      "source": [
        "<a href=\"https://colab.research.google.com/github/Doomyslayer/PyGames/blob/main/Jueguito1_v1_0_1.ipynb\" target=\"_parent\"><img src=\"https://colab.research.google.com/assets/colab-badge.svg\" alt=\"Open In Colab\"/></a>"
      ]
    },
    {
      "cell_type": "markdown",
      "source": [
        "# Prueba de juego Nº1: Ta-te-tí"
      ],
      "metadata": {
        "id": "5KyWhoszU7zR"
      }
    },
    {
      "cell_type": "code",
      "execution_count": 1,
      "metadata": {
        "id": "gffnszM2UG6-"
      },
      "outputs": [],
      "source": [
        "#importo librerías\n",
        "\n",
        "import random"
      ]
    },
    {
      "cell_type": "code",
      "source": [
        "#creo el tablero de juego\n",
        "def crear_tablero():\n",
        "  tablero = [[\" \", \" \", \" \"],\n",
        "             [\" \", \" \", \" \"],\n",
        "             [\" \", \" \", \" \"]]\n",
        "  return tablero"
      ],
      "metadata": {
        "id": "ASHfRJNHVM1-"
      },
      "execution_count": 2,
      "outputs": []
    },
    {
      "cell_type": "code",
      "source": [
        "#creo una función que imprime el estado actual del tablero en la consola\n",
        "def mostrar_tablero(tablero):\n",
        "  for fila in tablero:\n",
        "    print(\"| \" + \" | \".join(fila) + \" |\")"
      ],
      "metadata": {
        "id": "TALlg8wRVT8U"
      },
      "execution_count": 5,
      "outputs": []
    },
    {
      "cell_type": "code",
      "source": [
        "#creo una función que verifica que hay una casilla vacía para rellenar\n",
        "def es_casilla_vacia(tablero, fila, columna):\n",
        "  return tablero[fila][columna] == \" \""
      ],
      "metadata": {
        "id": "D_ArrhxqVfvE"
      },
      "execution_count": 6,
      "outputs": []
    },
    {
      "cell_type": "code",
      "source": [
        "#creo una función para colocar una marca en el tablero\n",
        "def marcar_casilla(tablero, marca, fila, columna):\n",
        "  if es_casilla_vacia(tablero, fila, columna):\n",
        "    tablero[fila][columna] = marca\n",
        "    return True\n",
        "  else:\n",
        "    return False"
      ],
      "metadata": {
        "id": "EAZaY39OVpG-"
      },
      "execution_count": 7,
      "outputs": []
    },
    {
      "cell_type": "code",
      "source": [
        "#creo una función para verificar si alguno/a de los/las jugadores/as ha ganado:\n",
        "def hay_ganador(tablero, marca):\n",
        "  # Verificar filas\n",
        "  for fila in tablero:\n",
        "    if fila[0] == fila[1] == fila[2] == marca:\n",
        "      return True\n",
        "  # Verificar columnas\n",
        "  for i in range(3):\n",
        "    if tablero[0][i] == tablero[1][i] == tablero[2][i] == marca:\n",
        "      return True\n",
        "  # Verificar diagonales\n",
        "  if tablero[0][0] == tablero[1][1] == tablero[2][2] == marca:\n",
        "    return True\n",
        "  if tablero[0][2] == tablero[1][1] == tablero[2][0] == marca:\n",
        "    return True\n",
        "  return False"
      ],
      "metadata": {
        "id": "Sbnda97tV-pY"
      },
      "execution_count": 8,
      "outputs": []
    },
    {
      "cell_type": "code",
      "source": [
        "#creo otra función, porque existe la posibilidad de que se produzca un empate:\n",
        "def esta_empatado(tablero):\n",
        "  for fila in tablero:\n",
        "    for casilla in fila:\n",
        "      if casilla == \" \":\n",
        "        return False\n",
        "  return True"
      ],
      "metadata": {
        "id": "KZh44vYaWH-B"
      },
      "execution_count": 9,
      "outputs": []
    },
    {
      "cell_type": "code",
      "source": [
        "#creo una función para cambiar de turno:\n",
        "def cambiar_turno(turno):\n",
        "  if turno == \"X\":\n",
        "    return \"O\"\n",
        "  else:\n",
        "    return \"X\""
      ],
      "metadata": {
        "id": "MLN1BXyOWRKF"
      },
      "execution_count": 10,
      "outputs": []
    },
    {
      "cell_type": "code",
      "source": [
        "#función principal que ejecuta el juego\n",
        "def main():\n",
        "  # Inicializar el juego\n",
        "  tablero = crear_tablero()\n",
        "  turno = random.choice([\"X\", \"O\"])\n",
        "  print(f\"El juego comienza, {turno} tiene el primer turno.\")\n",
        "  mostrar_tablero(tablero)\n",
        "\n",
        "  while True:\n",
        "    # Obtener la jugada del jugador actual\n",
        "    fila = (int(input(\"Ingrese la fila (1, 2 o 3): \")))-1#se resta 1, porque la gente cuenta 1,2,3...; mientras que la compu cuenta 0,1,2...\n",
        "    columna = (int(input(\"Ingrese la columna (1, 2 o 3): \")))-1\n",
        "\n",
        "    # Validar la jugada\n",
        "    if not es_casilla_vacia(tablero, fila, columna):\n",
        "      print(\"¡Casilla ocupada! Intenta de nuevo.\")\n",
        "      continue\n",
        "\n",
        "    # Marcar la casilla y mostrar el tablero\n",
        "    marcar_casilla(tablero, turno, fila, columna)\n",
        "    mostrar_tablero(tablero)\n",
        "\n",
        "    # Verificar si hay ganador o empate\n",
        "    if hay_ganador(tablero, turno):\n",
        "      print(f\"¡{turno} gana!\")\n",
        "      break\n",
        "    elif esta_empatado(tablero):\n",
        "      print(\"¡Empate!\")\n",
        "      break\n",
        "\n",
        "    # Cambiar de turno\n",
        "    turno = cambiar_turno(turno)\n",
        "    print(f\"Turno de {turno}.\")\n",
        "\n",
        "if __name__ == \"__main__\":\n",
        "  main()"
      ],
      "metadata": {
        "colab": {
          "base_uri": "https://localhost:8080/"
        },
        "id": "soy9t2qlWaDV",
        "outputId": "83fcd541-aefd-4da2-aa33-5c495e04f57d"
      },
      "execution_count": 11,
      "outputs": [
        {
          "output_type": "stream",
          "name": "stdout",
          "text": [
            "El juego comienza, O tiene el primer turno.\n",
            "|   |   |   |\n",
            "|   |   |   |\n",
            "|   |   |   |\n",
            "Ingrese la fila (0, 1 o 2): 1\n",
            "Ingrese la columna (0, 1 o 2): 1\n",
            "|   |   |   |\n",
            "|   | O |   |\n",
            "|   |   |   |\n",
            "Turno de X.\n",
            "Ingrese la fila (0, 1 o 2): 0\n",
            "Ingrese la columna (0, 1 o 2): 0\n",
            "| X |   |   |\n",
            "|   | O |   |\n",
            "|   |   |   |\n",
            "Turno de O.\n",
            "Ingrese la fila (0, 1 o 2): 1\n",
            "Ingrese la columna (0, 1 o 2): 0\n",
            "| X |   |   |\n",
            "| O | O |   |\n",
            "|   |   |   |\n",
            "Turno de X.\n",
            "Ingrese la fila (0, 1 o 2): 0\n",
            "Ingrese la columna (0, 1 o 2): 1\n",
            "| X | X |   |\n",
            "| O | O |   |\n",
            "|   |   |   |\n",
            "Turno de O.\n",
            "Ingrese la fila (0, 1 o 2): 1\n",
            "Ingrese la columna (0, 1 o 2): 2\n",
            "| X | X |   |\n",
            "| O | O | O |\n",
            "|   |   |   |\n",
            "¡O gana!\n"
          ]
        }
      ]
    }
  ]
}